{
 "cells": [
  {
   "cell_type": "markdown",
   "metadata": {},
   "source": [
    "# Optimizing Ads Spends Using S-Response Curves <a id='top'></a>\n",
    "\n",
    "_Using Python to Find the Effect of Individual Ads Campaign Channels | S-Curves Study_\n",
    "\n",
    "***\n",
    "\n",
    "## Table of Contents\n",
    "\n",
    "* [Introduction](#intro)\n",
    "* [Import Required Libraries](#import)\n",
    "* [Load Data](#load)\n",
    "* [Prepare Data](#prepare)\n",
    "* [Run OLS Regression](#ols)\n",
    "    * [First Run](#fit1)\n",
    "    * [Second Run](#fit2)\n",
    "    * [Find the S-Curve](#s-curve)\n",
    "    * [Final Run](#fit3)\n",
    "* [Conclusion](#conclusion)\n",
    "\n",
    "## Introduction <a id='intro'></a>\n",
    "\n",
    "A key focus of our team is to understand how our campaign spend affects our KPIs. In particular, we create models to understand the effect of individual campaign channels on KPIs such as sales or visits. Knowing how marketing spend affects KPIs enables us to optimize the marketing spend for maximal result.\n",
    "\n",
    "## Import Required Libraries <a id='import'></a>"
   ]
  },
  {
   "cell_type": "code",
   "execution_count": null,
   "metadata": {},
   "outputs": [],
   "source": [
    "# Import the required libraries\n",
    "import pandas as pd\n",
    "import numpy as np\n",
    "\n",
    "import statsmodels.api as sm\n",
    "import statsmodels.tools.tools as sm_tools\n",
    "\n",
    "import matplotlib.pyplot as plt\n",
    "import matplotlib.dates as dates\n",
    "import matplotlib.ticker as tkr\n",
    "\n",
    "from IPython.core.display import display, HTML\n",
    "display(HTML(\"<style>.container { width:70% !important; }</style>\"))"
   ]
  },
  {
   "cell_type": "markdown",
   "metadata": {},
   "source": [
    "[Go to the top](#top)\n",
    "\n",
    "## Load Data <a id='load'></a>\n",
    "\n",
    "Read the dataset and load it into a Pandas dataframe."
   ]
  },
  {
   "cell_type": "code",
   "execution_count": null,
   "metadata": {},
   "outputs": [],
   "source": [
    "# Read data\n",
    "df = pd.read_csv('2020-2021_combined_data.csv', index_col=['Date'], parse_dates=[0],\n",
    "                 usecols=['Date', 'Ad Impressions', 'Direct Visit Clicks'])\n",
    "\n",
    "# Show rows\n",
    "df"
   ]
  },
  {
   "cell_type": "markdown",
   "metadata": {},
   "source": [
    "[Go to the top](#top)\n",
    "\n",
    "##  Prepare Data <a id='prepare'></a>\n",
    "\n",
    "We see that there are two important factors that determine the number of **Direct Visit Clicks** on a day:\n",
    "\n",
    "1. **Seasonality** or the day of the week, which can be extracted from the **Date** column, and\n",
    "2. the number of **Ad Impressions** on that day.\n",
    "\n",
    "A smarter approach to find the S-curve - instead of adding a continuous variable that denotes the number of ad impressions on a given day - is to add binary dummies, where each dummy represents an interval of ad impressions. So, we will add four (we can add more or less dummies) binary equally sized dummies representing the ad impressions intervals.\n",
    "\n",
    "First, let's normalize the data into a [0-10] scale."
   ]
  },
  {
   "cell_type": "code",
   "execution_count": null,
   "metadata": {},
   "outputs": [],
   "source": [
    "# Normalize into a 0-10 scale\n",
    "df = 10 * (df - df.min()) / (df.max() - df.min())"
   ]
  },
  {
   "cell_type": "code",
   "execution_count": null,
   "metadata": {},
   "outputs": [],
   "source": [
    "# Get day from date\n",
    "df['day_of_the_week'] = df.index.day_name()\n",
    "\n",
    "# Create dummies for day of week and remove one\n",
    "dummies = pd.get_dummies(df[['day_of_the_week']], drop_first=True)\n",
    "df = pd.concat([df.drop(['day_of_the_week'], axis=1), dummies], axis=1)\n",
    "\n",
    "# \"Bin Ad Impressions\" into 4 equally sized bins and create dummies\n",
    "df['Ad_Impressions_bins'] = pd.qcut(df['Ad Impressions'], q=4, precision=0)\n",
    "dummies = pd.get_dummies(df[['Ad_Impressions_bins']])\n",
    "df = pd.concat([df.drop(['Ad_Impressions_bins'], axis=1), dummies], axis=1)\n",
    "\n",
    "# Show df\n",
    "df"
   ]
  },
  {
   "cell_type": "markdown",
   "metadata": {},
   "source": [
    "[Go to the top](#top)\n",
    "\n",
    "## Run OLS Regression <a id='ols'></a>\n",
    "\n",
    "### First Run <a id='fit1'></a>\n",
    "\n",
    "As we are interested in how ad impressions affects the number of clicks, we run a simple OLS regression to capture the relationship of ads (no dummies) and seasonality on clicks."
   ]
  },
  {
   "cell_type": "code",
   "execution_count": null,
   "metadata": {},
   "outputs": [],
   "source": [
    "# Create a function for the OLS model\n",
    "def model(x, y, constant=True, log_transform=False):\n",
    "    # Run OLS regression, print summary and return results\n",
    "    if constant:\n",
    "        x = sm_tools.add_constant(x)        # Add constant\n",
    "    if log_transform:\n",
    "        y = np.log1p(y)\n",
    "    ols_model = sm.OLS(y, x)                # Initialize model\n",
    "    ols_result = ols_model.fit()            # Fit model\n",
    "    print(ols_result.summary())             # Print statistics summary\n",
    "    return ols_result"
   ]
  },
  {
   "cell_type": "code",
   "execution_count": null,
   "metadata": {},
   "outputs": [],
   "source": [
    "# Create a function to format the x-axis for dates\n",
    "def apply_date_formatting_to_axis(ax):\n",
    "    \"\"\" Format x-axis of input plot to a readable date format \"\"\"\n",
    "    ax.xaxis.set_minor_locator(dates.WeekdayLocator(byweekday=(0), interval=3))\n",
    "    ax.xaxis.set_minor_formatter(dates.DateFormatter('%d\\n%a'))\n",
    "    ax.xaxis.grid(True, which=\"minor\")\n",
    "    ax.yaxis.grid()\n",
    "    ax.xaxis.set_major_locator(dates.MonthLocator())\n",
    "    ax.xaxis.set_major_formatter(dates.DateFormatter('\\n\\n\\n%b\\n%Y'))\n",
    "    return ax"
   ]
  },
  {
   "cell_type": "code",
   "execution_count": null,
   "metadata": {},
   "outputs": [],
   "source": [
    "# Initialize model\n",
    "x = df[['Ad Impressions', 'day_of_the_week_Monday', 'day_of_the_week_Tuesday', 'day_of_the_week_Wednesday',\n",
    "        'day_of_the_week_Thursday', 'day_of_the_week_Saturday', 'day_of_the_week_Sunday']]\n",
    "y = df['Direct Visit Clicks']\n",
    "\n",
    "# Run OLS regression and store results in res\n",
    "res = model(x, y)\n",
    "\n",
    "# Create plot\n",
    "fig, ax = plt.subplots(figsize=(21, 8))\n",
    "\n",
    "# Add bar chart representing Ad Impressions values\n",
    "ax.bar(df.index, df['Ad Impressions'], color='tan', align='center')\n",
    "\n",
    "# Add line chart representing clicks\n",
    "ax.plot(df.index, y, 'o-', label=\"Direct Visit Clicks\")\n",
    "ax.plot(df.index, res.fittedvalues, 'ro-', label=\"Predicted Direct Visit Clicks\")\n",
    "\n",
    "# Add text box in upper left in axes coords denoting the R squared of the model\n",
    "props = dict(boxstyle='round', facecolor='lightgrey', alpha=0.5)\n",
    "ax.text(0.05, 0.95, \"Adj. R squared: {:.2f}\".format(res.rsquared_adj), transform=ax.transAxes,\n",
    "        fontsize=14, verticalalignment='top', bbox=props)\n",
    "\n",
    "# Set plot options and show plot\n",
    "ax = apply_date_formatting_to_axis(ax)\n",
    "ax.legend(['Direct Visit Clicks', 'Predicted Direct Visit Clicks', 'Ad Impressions'], loc='upper right')\n",
    "plt.title('OLS Regression')\n",
    "plt.tight_layout()\n",
    "plt.show()"
   ]
  },
  {
   "cell_type": "markdown",
   "metadata": {},
   "source": [
    "**Inference**\n",
    "\n",
    "* Low Adj. R-squared\n",
    "* The result of this regression shows that some days of the week can be a very important factor for the number of clicks, while other days not:\n",
    "    * **Tuesday**, **Wednesday** and **Weekends** are statistically significant with low p-values.\n",
    "* We used Friday as reference day arbitrarily and added binary dummy variables for all other days. The coefficients of these day-dummies can be interpreted as the number of clicks this day has more (or less) compared to the number of clicks on Friday (the reference day). For example, the Saturday coefficient of -1.2836 implies that there are 1.2836 less absolute clicks on Saturday than on Friday.\n",
    "* Another interesting result is the positive coefficient for the Ad Impressions variable. This coefficient can be interpreted as a positive effect of 0.0930 additional clicks for each Ad Impressions. Note also that this imply a **non-linear** effect of Ad Impressions.\n",
    "\n",
    "[Go to the top](#top)\n",
    "\n",
    "### Second Run <a id='fit2'></a>\n",
    "\n",
    "Run again the OLS regression model using now all the dummy variables."
   ]
  },
  {
   "cell_type": "code",
   "execution_count": null,
   "metadata": {},
   "outputs": [],
   "source": [
    "# Initialize model\n",
    "x = df[['Ad_Impressions_bins_(-0.1, 0.1]', 'Ad_Impressions_bins_(0.1, 0.3]',\n",
    "        'Ad_Impressions_bins_(0.3, 0.4]', 'Ad_Impressions_bins_(0.4, 10.0]',\n",
    "        'day_of_the_week_Monday', 'day_of_the_week_Tuesday', 'day_of_the_week_Wednesday',\n",
    "        'day_of_the_week_Thursday', 'day_of_the_week_Saturday', 'day_of_the_week_Sunday']]\n",
    "y = df['Direct Visit Clicks']\n",
    "\n",
    "# Run OLS regression and store results in res\n",
    "res = model(x, y)\n",
    "\n",
    "# Create plot\n",
    "fig, ax = plt.subplots(figsize=(21, 8))\n",
    "\n",
    "# Add bar chart representing Ad Impressions values\n",
    "ax.bar(df.index, df['Ad Impressions'], color='tan', align='center')\n",
    "\n",
    "# Add line chart representing clicks\n",
    "ax.plot(df.index, y, 'o-', label=\"Direct Visit Clicks\")\n",
    "ax.plot(df.index, res.fittedvalues, 'ro-', label=\"Predicted Direct Visit Clicks\")\n",
    "\n",
    "# Add text box in upper left in axes coords denoting the R squared of the model\n",
    "props = dict(boxstyle='round', facecolor='lightgrey', alpha=0.5)\n",
    "ax.text(0.05, 0.95, \"Adj. R squared: {:.2f}\".format(res.rsquared_adj), transform=ax.transAxes,\n",
    "        fontsize=14, verticalalignment='top', bbox=props)\n",
    "\n",
    "# Set plot options and show plot\n",
    "ax = apply_date_formatting_to_axis(ax)\n",
    "ax.legend(['Direct Visit Clicks', 'Predicted Direct Visit Clicks', 'Ad Impressions'], loc='upper right')\n",
    "plt.title('OLS Regression')\n",
    "plt.tight_layout()\n",
    "plt.show()"
   ]
  },
  {
   "cell_type": "markdown",
   "metadata": {},
   "source": [
    "**Inference**\n",
    "\n",
    "* Low Adj. R-squared\n",
    "* * **Tuesday**, **Wednesday** and **Weekends** are statistically significant with low p-values.\n",
    "* Using Ad Impressions dummies we simplified the model and we see that all the bins of Ad Impressions are statistically significant.\n",
    "* Looking at the Ad Impressions bins coefficients, we see that the Ad_Impressions_bins_(0.4, 10.0] increases almost linearly the clicks in a specific day.\n",
    "\n",
    "[Go to the top](#top)\n",
    "\n",
    "### Find the S-Curve <a id='s-curve'></a>\n",
    "\n",
    "Let's plot the additional Direct Visit Clicks against the Ad Impressions intervals. The shape of the S-Curve can be seen in these points. It then is a simple task to find the S-Curve that best fits these points."
   ]
  },
  {
   "cell_type": "code",
   "execution_count": null,
   "metadata": {},
   "outputs": [],
   "source": [
    "# Create function for the s-curve\n",
    "def logistic_function(x, L=10.0, k=1.25, x_0=5.0):\n",
    "    \"\"\" S-response curve function / logistic function\n",
    "    :param x: input value that needs to be transformed to a point on the S-curve\n",
    "    :param L: the curve's maximum value\n",
    "    :param k: the steepness of the curve\n",
    "    :param x_0: the x-value of the sigmoid's midpoint\n",
    "    :return: the value of x as a point on the S-curve\n",
    "    \"\"\"\n",
    "    value = L / (1 + np.exp(-k * (x - x_0)))\n",
    "    return value"
   ]
  },
  {
   "cell_type": "code",
   "execution_count": null,
   "metadata": {
    "scrolled": true
   },
   "outputs": [],
   "source": [
    "# Initialize plot\n",
    "fig, ax = plt.subplots(figsize=(8, 4))\n",
    "\n",
    "# # Plot dummy coefficients\n",
    "x = [0.05, 0.2, 0.35, 0.7]  # means of Ad Impressions bins\n",
    "y = [res.params[1], res.params[2], res.params[3], res.params[4]]  # get from previous OLS results\n",
    "ax.plot(x, y, 'ro', label=\"Dummy values\", markersize=9)\n",
    "\n",
    "\n",
    "# Plot fitted predicted S-response curve\n",
    "x = np.arange(0, 10, 0.1)\n",
    "y = logistic_function(x, L=0.85, k=8, x_0=0.15)\n",
    "ax.plot(x, y, '-', label=\"Fitted Predicted S-Curve\")\n",
    "\n",
    "# Set plot options and show plot\n",
    "ax.legend(loc='lower right')\n",
    "plt.xlabel('Ad Impressions')\n",
    "plt.ylabel('Additional Direct Visit Clicks')\n",
    "plt.title('Predicted S-Shaped Response Curve')\n",
    "plt.tight_layout()\n",
    "plt.grid()\n",
    "plt.show()"
   ]
  },
  {
   "cell_type": "markdown",
   "metadata": {},
   "source": [
    "**Inference**\n",
    "\n",
    "* A particular useful property of the S-Curve is the inflection point, which helps to find the optimal spend value on marketing. At the inflection point, the derivative value of the S-Curve is maximized. This implies that at this point the S-Curve changes from increasing returns into diminishing returns. The inflection point is therefore used as the minimum spend value because all spends below this value imply underspending as we can easily increase our ROI if we increase the spend up to the inflection point.\n",
    "* In our example, the **inflection point** lies at 0.15 normalized Ad Impressions, which is about **28000 Ad Impressions** in denormalized units. Using less than 28000 implies underspending because we can get more clicks per ad impression.\n",
    "* In a similar manner we can also find the **overspending value**. Above the inflection point, the S-Curve shows **diminishing returns**. This implies that for every additional ad, fewer absolute additional clicks are generated. In our case, at point around 0.8 (**plateau area**) or at more than about **150000 Ad Impressions** is obvious overspending as the additional clicks hardly increase.\n",
    "\n",
    "[Go to the top](#top)\n",
    "\n",
    "### Final Run <a id='fit3'></a>\n",
    "\n",
    "So, since we found our best S-Curve transformation, we run the first OLS regression again but this time with our Ad Impressions transformed to fit the new S-Curve."
   ]
  },
  {
   "cell_type": "code",
   "execution_count": null,
   "metadata": {},
   "outputs": [],
   "source": [
    "# Transform Ad Impressions based on the previous predicted S-Curve\n",
    "df['Ad Impressions'] = logistic_function(df['Ad Impressions'], L=0.85, k=8, x_0=0.15)\n",
    "\n",
    "# Initialize model\n",
    "x = df[['Ad Impressions', 'day_of_the_week_Monday', 'day_of_the_week_Tuesday', 'day_of_the_week_Wednesday',\n",
    "        'day_of_the_week_Thursday', 'day_of_the_week_Saturday', 'day_of_the_week_Sunday']]\n",
    "y = df['Direct Visit Clicks']\n",
    "\n",
    "# Run OLS regression and store results in res\n",
    "res = model(x, y)\n",
    "\n",
    "# Create plot\n",
    "fig, ax = plt.subplots(figsize=(21, 8))\n",
    "\n",
    "# Add bar chart representing Ad Impressions values\n",
    "ax.bar(df.index, df['Ad Impressions'], color='tan', align='center')\n",
    "\n",
    "# Add line chart representing clicks\n",
    "ax.plot(df.index, y, 'o-', label=\"Direct Visit Clicks\")\n",
    "ax.plot(df.index, res.fittedvalues, 'ro-', label=\"Predicted Direct Visit Clicks\")\n",
    "\n",
    "# Add text box in upper left in axes coords denoting the R squared of the model\n",
    "props = dict(boxstyle='round', facecolor='lightgrey', alpha=0.5)\n",
    "ax.text(0.05, 0.95, \"Adj. R squared: {:.2f}\".format(res.rsquared_adj), transform=ax.transAxes,\n",
    "        fontsize=14, verticalalignment='top', bbox=props)\n",
    "\n",
    "# Set plot options and show plot\n",
    "ax = apply_date_formatting_to_axis(ax)\n",
    "ax.legend(['Direct Visit Clicks', 'Predicted Direct Visit Clicks', 'Ad Impressions'], loc='upper right')\n",
    "plt.title('OLS Regression')\n",
    "plt.tight_layout()\n",
    "plt.show()"
   ]
  },
  {
   "cell_type": "markdown",
   "metadata": {},
   "source": [
    "**Inference**\n",
    "\n",
    "* We didn't get a better fit with S-Curve transformation.\n",
    "\n",
    "[Go to the top](#top)\n",
    "\n",
    "## Conclusion <a id='conclusion'></a>\n",
    "\n",
    "From the optimization and S-Curve analysis we can say that:\n",
    "\n",
    "* We get Low Adj. R-squared in our models.\n",
    "* **Tuesday**, **Wednesday** and **Weekends** are statistically significant days on Direct Visit Clicks.\n",
    "* We get considerably less Direct Visit Clicks on weekends.\n",
    "* In general Ad Impressions has a non-linear effect on Direct Visit Clicks.\n",
    "* The inflection point lies at 28000 Ad Impressions, which means that less than this implies underspending because we can get more clicks per ad impression.\n",
    "* However, above the inflection point, the S-Curve shows **diminishing returns** and in our case, more than about 150000 Ad Impressions is obvious overspending as the additional clicks hardly increase.\n",
    "\n",
    "Finally, when we get response curves for each of the individual KPI drivers (different campaigns), it is possible to find the optimal spend for each individual campaign using an easy-to-solve optimization problem. The result is an optimal marketing mix that maximizes the chosen KPIs.\n",
    "\n",
    "[Go to the top](#top)"
   ]
  }
 ],
 "metadata": {
  "kernelspec": {
   "display_name": "Python 3",
   "language": "python",
   "name": "python3"
  },
  "language_info": {
   "codemirror_mode": {
    "name": "ipython",
    "version": 3
   },
   "file_extension": ".py",
   "mimetype": "text/x-python",
   "name": "python",
   "nbconvert_exporter": "python",
   "pygments_lexer": "ipython3",
   "version": "3.7.3"
  }
 },
 "nbformat": 4,
 "nbformat_minor": 4
}
